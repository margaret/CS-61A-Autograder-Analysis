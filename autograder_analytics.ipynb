{
 "metadata": {
  "name": "",
  "signature": "sha256:2d69841f70efb20adffb15af99e9c17c0b4efa723e2c0b9375ebeb26a6a3adc8"
 },
 "nbformat": 3,
 "nbformat_minor": 0,
 "worksheets": [
  {
   "cells": [
    {
     "cell_type": "markdown",
     "metadata": {},
     "source": [
      "CS 61A Spring 2015 - Project progress analysis \n",
      "==============================================\n",
      "By Dhruv Garg and Margaret Sy\n",
      "\n",
      "Exploratory analysis of autograder logs from project 1 in CS 61A Spring 2015, for Art W23 AC final project.\n",
      "\n",
      "CS 61A students test their projects using the autograder program ```ok```, which was written by the 61A staff and is hosted at [https://github.com/Cal-CS-61A-Staff/ok-client](Github). The autograder has different features, which can be called with various arguments (for example, students must first unlock tests before being able to run them, so there is an unlock mode). We examing the results of the grading protocol, which tells which problems were submitted for grading, and how many tests for those problems were unlocked, passed, and failed. Here is the data-munging code."
     ]
    },
    {
     "cell_type": "markdown",
     "metadata": {},
     "source": [
      "Scripts assume you are in a directory containing\n",
      "```\n",
      "/hog\n",
      "    /<id>\n",
      "        backups.pkl\n",
      "    /<id>\n",
      "        backups.pkl\n",
      "    ...\n",
      "```\n",
      "Must use Python 3 because logs were pickled in Python 3. "
     ]
    },
    {
     "cell_type": "code",
     "collapsed": false,
     "input": [
      "import sys\n",
      "import os\n",
      "import pickle\n",
      "import pprint\n",
      "import datetime\n",
      "from collections import Counter, defaultdict"
     ],
     "language": "python",
     "metadata": {},
     "outputs": [],
     "prompt_number": 16
    },
    {
     "cell_type": "code",
     "collapsed": false,
     "input": [
      "TEST_STUDENTS = ['5160814499594240', '5471962734264320', '4841956127539200', '5505462027943936']"
     ],
     "language": "python",
     "metadata": {},
     "outputs": [],
     "prompt_number": 10
    },
    {
     "cell_type": "code",
     "collapsed": false,
     "input": [
      "def count_protocols(directory):\n",
      "    \"\"\"Exploratory - what combinations of protocols are being called each time?\n",
      "    \"\"\"\n",
      "    try:\n",
      "        data = pickle.load(open(\"hog/\"+str(directory)+\"/backups.pkl\", \"rb\"))\n",
      "    except Exception as e:\n",
      "        print(\"could not unpickle data in {0}\".format(str(directory)))\n",
      "        return None\n",
      "\n",
      "    c = Counter()\n",
      "\n",
      "    for d in data:\n",
      "        try:\n",
      "            for key in d['messages'].keys():\n",
      "                c[key] += 1                                                                                                                                                  \n",
      "        except KeyError:\n",
      "            c['no_messages']+=1\n",
      "\n",
      "    return c"
     ],
     "language": "python",
     "metadata": {},
     "outputs": [],
     "prompt_number": 3
    },
    {
     "cell_type": "code",
     "collapsed": false,
     "input": [
      "def get_submissions(student):\n",
      "    \"\"\"                                                                                                                                                                                             \n",
      "    get a list of all (dict) submissions for a (int) student                                                                                                                                        \n",
      "    \"\"\"\n",
      "    submissions = pickle.load(open(\"hog/{0}/backups.pkl\".format(student), \"rb\"))\n",
      "    return submissions"
     ],
     "language": "python",
     "metadata": {},
     "outputs": [],
     "prompt_number": 11
    },
    {
     "cell_type": "code",
     "collapsed": false,
     "input": [
      "def count_all_submissions(student_ids, submissions):\n",
      "    \"\"\"given a list of students and all their submissions: list of tuples (dict, str timestamp),                                                                                                    \n",
      "    return a dict of {(int) student_id: (int) number submissions}\"\"\"\n",
      "    return dict(zip(student_ids, list(map(len, submissions))))"
     ],
     "language": "python",
     "metadata": {},
     "outputs": [],
     "prompt_number": 12
    },
    {
     "cell_type": "code",
     "collapsed": false,
     "input": [
      "def get_protocol(data, protocol):\n",
      "    \"\"\"param: list of autograder output dictionaries (all protocols), protocol in ['grading', 'unlock', 'lock', 'analytics']                                                                        \n",
      "    return: list containing tuples (dict, (str) timestamp) of only entries from the protocol\"\"\"\n",
      "    filtered = []\n",
      "    for log in data:\n",
      "        if protocol in log['messages'].keys():\n",
      "            filtered.append((log['messages'][protocol], log['created']))\n",
      "    return filtered"
     ],
     "language": "python",
     "metadata": {},
     "outputs": [],
     "prompt_number": 5
    },
    {
     "cell_type": "code",
     "collapsed": false,
     "input": [
      "def get_start_time(data):\n",
      "    \"\"\"given the output of get_protocol, return the earliest submission timestamp                                                                                                                   \n",
      "    \"\"\"\n",
      "    try:\n",
      "        return sorted(data, key=lambda x: x[1])[0]\n",
      "    except IndexError:\n",
      "        print(\"No entries\")\n",
      "        return None\n",
      "\n",
      "def get_all_start_times(grades):\n",
      "    \"\"\"param: output from get_protocol(data, 'grading')                                                                                                                                             \n",
      "    returns list of tuples (student, start_time)\"\"\"\n",
      "    start_times = []\n",
      "    for grade in grades:\n",
      "        try:\n",
      "            start_times.append(get_start_time(grade))\n",
      "        except Exception as e:\n",
      "            print(e) # student never turned anything in. probably dropped the class.                                                                                                                \n",
      "    print(\"{0} start times\".format(len(start_times)))\n",
      "    return dict(zip(students,start_times))"
     ],
     "language": "python",
     "metadata": {},
     "outputs": [],
     "prompt_number": 6
    },
    {
     "cell_type": "code",
     "collapsed": false,
     "input": [
      "def get_question(data, q, completed=False):\n",
      "    \"\"\"Given the output of get_protocol(data, 'grading') and an (int) question, return the                                                                                                          \n",
      "    list of tuples that contains that question (single entry or part of a mult-question run)                                                                                                        \n",
      "    if completed is True, then only add the entry if the question has been completed\"\"\"\n",
      "    question = \"Question {0}\".format(q)\n",
      "    filtered = []\n",
      "    for log in data:\n",
      "        if question in log[0].keys():\n",
      "            if completed:\n",
      "                if log[0][question]['locked']==0 and log[0][question]['failed']==0:\n",
      "                    filtered.append(log)\n",
      "            else:\n",
      "                filtered.append(log)\n",
      "    return filtered"
     ],
     "language": "python",
     "metadata": {},
     "outputs": [],
     "prompt_number": 7
    },
    {
     "cell_type": "code",
     "collapsed": false,
     "input": [
      "def is_complete_project(submission):\n",
      "    \"\"\"given a (dict) log, return True if the project is completed\"\"\"\n",
      "    questions = [\"Question {0}\".format(i) for i in range(11)] # for hog                                                                                                                             \n",
      "    for question in questions:\n",
      "        if question not in submission.keys():\n",
      "            return False\n",
      "        if submission[question]['locked']!=0 or submission[question]['failed']!=0:\n",
      "            return False\n",
      "    return True\n",
      "\n",
      "\n",
      "def get_completed(data):\n",
      "    \"\"\"Given the output of get_protocol(data, 'grading'), return the list of tuples that contains                                                                                                   \n",
      "    submissions with completed projects\"\"\"\n",
      "    completed = []\n",
      "    for log in data:\n",
      "        if is_complete_project(log[0]):\n",
      "            completed.append(log)\n",
      "    return completed\n",
      "\n",
      "def get_earliest_completed(data):\n",
      "    \"\"\"return only the earlist complete submission in data\"\"\"\n",
      "    completed = get_completed(data) # because lazy                                                                                                                                                  \n",
      "    try:\n",
      "        return sorted(completed, key=lambda x: x[1])[0]\n",
      "    except IndexError:\n",
      "        return None"
     ],
     "language": "python",
     "metadata": {},
     "outputs": [],
     "prompt_number": 8
    },
    {
     "cell_type": "code",
     "collapsed": false,
     "input": [
      "def bucket(data, bins):\n",
      "    \"\"\"                                                                                                                                                                                             \n",
      "    params:                                                                                                                                                                                         \n",
      "          data: dict where values are numbers                                                                                                                                                       \n",
      "          bins: int number of buckets                                                                                                                                                               \n",
      "    returns:                                                                                                                                                                                        \n",
      "          list of length num_buckets, where each bucket is a list of (key, value) items in data that fall into that bucket\"\"\"\n",
      "    max_submissions = max(data.values())\n",
      "    min_submissions = min(data.values()) # should be 0                                                                                                                                              \n",
      "    bucket_size = (max_submissions - min_submissions)//bins\n",
      "    print(max_submissions, min_submissions, bucket_size)\n",
      "    slices = [[] for i in range(bins)]\n",
      "    print(slices)\n",
      "    print(len(slices))\n",
      "    for item in data.items():\n",
      "        bucket_index = int((item[1]-min_submissions)//bucket_size)\n",
      "        if bucket_index == bins:\n",
      "            bucket_index -= 1\n",
      "        # print(\"item\", item, \"index\", bucket_index, \"bins\", bins)                                                                                                                                  \n",
      "        slices[bucket_index].append(item)\n",
      "    return slices"
     ],
     "language": "python",
     "metadata": {},
     "outputs": [],
     "prompt_number": 13
    },
    {
     "cell_type": "code",
     "collapsed": false,
     "input": [
      "def convert_to_datetime(timestamp):\n",
      "    if not timestamp:\n",
      "        return None\n",
      "    date = timestamp.split()[0].split('-')\n",
      "    y,mo,d = int(date[0]), int(date[1]), int(date[2])\n",
      "    time = timestamp.split()[1].split(':')\n",
      "    h,mi,s =  int(time[0]), int(time[1]), int(float(time[2]))\n",
      "    return datetime.datetime(y,mo,d,h,mi,s)\n",
      "\n",
      "def convert_delta_to_hrs(td):\n",
      "    # ignores microseconds                                                                                                                                                                          \n",
      "    return (td.days*24) + (td.seconds/360)"
     ],
     "language": "python",
     "metadata": {},
     "outputs": [],
     "prompt_number": 14
    },
    {
     "cell_type": "code",
     "collapsed": false,
     "input": [
      "def main():\n",
      "    all_students = os.listdir('hog/')[:-1] # the last directory has a corrupted file                                                                                                                \n",
      "    submissions = [get_submissions(student) for student in all_students[:50]]\n",
      "    all_grades = [get_protocol(submission, 'grading') for submission in submissions]\n",
      "    all_start_times = [get_start_time(grade) for grade in all_grades]\n",
      "    all_completed = [get_earliest_completed(grade) for grade in all_grades]\n",
      "    all_time_to_complete = []\n",
      "    \n",
      "    for start,end in zip(all_start_times, all_completed):\n",
      "        if start and end:\n",
      "            # all_time_to_complete.append(convert_to_datetime(end[1]) - convert_to_datetime(start[1]))                                                                                              \n",
      "            delta = convert_to_datetime(end[1]) - convert_to_datetime(start[1])\n",
      "            all_time_to_complete.append(convert_delta_to_hrs(delta))\n",
      "        else:\n",
      "            all_time_to_complete.append(-1)\n",
      "\n",
      "    # autograder_usage = count_all_submissions(all_students, submissions)                                                                                                                           \n",
      "    # binned = bucket(autograder_usage, 10) \n",
      "    \n",
      "    pprint.pprint(all_time_to_complete)\n",
      "    print(\"longest\", max(all_time_to_complete))\n",
      "    shortest = max(all_time_to_complete)\n",
      "    for t in all_time_to_complete:\n",
      "        if 0 < t < shortest:\n",
      "            shortest = t\n",
      "    print(\"shortest (non-zero)\", shortest)\n",
      "    finish_times = dict(zip(all_students, all_time_to_complete))\n",
      "    sorted_finish_times = sorted(finish_times.items(), key=lambda x: x[1])\n",
      "    print(\"head\", sorted_finish_times[:20])\n",
      "    print(\"tail\", sorted_finish_times[-20:])"
     ],
     "language": "python",
     "metadata": {},
     "outputs": [],
     "prompt_number": 15
    },
    {
     "cell_type": "code",
     "collapsed": false,
     "input": [],
     "language": "python",
     "metadata": {},
     "outputs": []
    }
   ],
   "metadata": {}
  }
 ]
}